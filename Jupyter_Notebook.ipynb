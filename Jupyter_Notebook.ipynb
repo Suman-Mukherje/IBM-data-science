{
 "cells": [
  {
   "cell_type": "markdown",
   "metadata": {},
   "source": [
    "# Jupyter Notebook by Suman Mukherjee"
   ]
  },
  {
   "cell_type": "markdown",
   "metadata": {},
   "source": [
    "## Introduction\n",
    "\n",
    "Data Science is about data gathering, analysis and decision-making.\n",
    "\n",
    "Data Science is about finding patterns in data, through analysis, and make future predictions.\n",
    "\n",
    "By using Data Science, companies are able to make:\n",
    "\n",
    "Better decisions (should we choose A or B)\n",
    "Predictive analysis (what will happen next?)\n",
    "Pattern discoveries (find pattern, or maybe hidden information in the data)"
   ]
  },
  {
   "cell_type": "markdown",
   "metadata": {
    "tags": []
   },
   "source": [
    "### Data science languages\n",
    "\n",
    "The popular languages are Python,R,SQL,Scala,Java,C++ and Julia"
   ]
  },
  {
   "cell_type": "markdown",
   "metadata": {},
   "source": [
    "## Data science libraries\n",
    "\n",
    "For data science, there are some Python's scientific computing libraries like Pandas, Numpy,\n",
    "Scipy, and Matplotlib."
   ]
  },
  {
   "cell_type": "markdown",
   "metadata": {},
   "source": [
    "## Data Science tools\n",
    "\n",
    "| Task Categories | Tools | \n",
    "| :- | :-: |\n",
    "| Data Management | MySQL, PostgreSQL,MongoDB |\n",
    "| Data Intregration and Transformation | Apache Airflow and Apache kafka |\n",
    "| Data Visualization | Cognos Analytics, Tableau and PowerBi |\n",
    "| Code Asset Management | Git, GitHub |\n",
    "| Development Environment | Jupyter Notebooks, RStudio |"
   ]
  },
  {
   "cell_type": "markdown",
   "metadata": {},
   "source": [
    "## Arithmetic Expression Examples\n",
    "\n",
    "5 -- a number is an arithmetic expression. (3 + 4) -- the sum of numbers is an arithmetic expression.\n",
    "(7 - 3) -- the difference of two numbers is an arithmetic expression."
   ]
  },
  {
   "cell_type": "code",
   "execution_count": 2,
   "metadata": {
    "tags": []
   },
   "outputs": [
    {
     "name": "stdout",
     "output_type": "stream",
     "text": [
      "77\n"
     ]
    }
   ],
   "source": [
    "# multiply and add numbers\n",
    "a=(3+4)*(5+6)\n",
    "print(a)"
   ]
  },
  {
   "cell_type": "code",
   "execution_count": 6,
   "metadata": {
    "tags": []
   },
   "outputs": [
    {
     "name": "stdout",
     "output_type": "stream",
     "text": [
      "1\n"
     ]
    }
   ],
   "source": [
    "#convert minutes to hours\n",
    "min=70\n",
    "hour=min//60\n",
    "print(hour)"
   ]
  },
  {
   "cell_type": "markdown",
   "metadata": {},
   "source": [
    "## Objectives\n",
    "\n",
    "1.Create a Jupyter Notebook\n",
    "2.Insert code and markdown cells\n",
    "3.Share your notebook through GitHub"
   ]
  },
  {
   "cell_type": "markdown",
   "metadata": {},
   "source": [
    "## Author’s name\n",
    "Suman Mukherjee"
   ]
  },
  {
   "cell_type": "code",
   "execution_count": null,
   "metadata": {},
   "outputs": [],
   "source": []
  }
 ],
 "metadata": {
  "kernelspec": {
   "display_name": "Python",
   "language": "python",
   "name": "conda-env-python-py"
  },
  "language_info": {
   "codemirror_mode": {
    "name": "ipython",
    "version": 3
   },
   "file_extension": ".py",
   "mimetype": "text/x-python",
   "name": "python",
   "nbconvert_exporter": "python",
   "pygments_lexer": "ipython3",
   "version": "3.7.12"
  }
 },
 "nbformat": 4,
 "nbformat_minor": 4
}
